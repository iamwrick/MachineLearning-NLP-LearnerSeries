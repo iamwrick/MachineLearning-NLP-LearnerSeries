{
 "cells": [
  {
   "cell_type": "markdown",
   "id": "russian-flash",
   "metadata": {},
   "source": [
    "## Create a SpamClassifier leveraging the UCI SMS Spam Collection Dataset"
   ]
  },
  {
   "cell_type": "markdown",
   "id": "agreed-communication",
   "metadata": {},
   "source": [
    "The link to the dataset is [here](https://archive.ics.uci.edu/ml/machine-learning-databases/00228/)"
   ]
  },
  {
   "cell_type": "markdown",
   "id": "improving-anchor",
   "metadata": {},
   "source": [
    "## Step 1\n",
    "\n",
    "We will use the pandas library to read our dataset. The data has been downloaded from the repository and uploaded in a S3 bucket(sagemaker-us-east-1-XXXXXXXXXXXX). The dataset is uploaded to a S3 bucket already. The dataset is tab separated. **Spam | Ham**"
   ]
  },
  {
   "cell_type": "code",
   "execution_count": 4,
   "id": "voluntary-washer",
   "metadata": {},
   "outputs": [
    {
     "name": "stdout",
     "output_type": "stream",
     "text": [
      "The shape of the dataset is: (5572, 2)\n"
     ]
    }
   ],
   "source": [
    "# import the datasets\n",
    "import pandas as pd\n",
    "\n",
    "df = pd.read_csv('s3://XXXXXXXXXXXXXXXXXX-XXXXXXX-XXXXXX',sep='\\t',names=[\"label\",\"messages\"])\n",
    "print('The shape of the dataset is:', df.shape)"
   ]
  },
  {
   "cell_type": "code",
   "execution_count": 6,
   "id": "exterior-bulgarian",
   "metadata": {},
   "outputs": [
    {
     "data": {
      "text/html": [
       "<div>\n",
       "<style scoped>\n",
       "    .dataframe tbody tr th:only-of-type {\n",
       "        vertical-align: middle;\n",
       "    }\n",
       "\n",
       "    .dataframe tbody tr th {\n",
       "        vertical-align: top;\n",
       "    }\n",
       "\n",
       "    .dataframe thead th {\n",
       "        text-align: right;\n",
       "    }\n",
       "</style>\n",
       "<table border=\"1\" class=\"dataframe\">\n",
       "  <thead>\n",
       "    <tr style=\"text-align: right;\">\n",
       "      <th></th>\n",
       "      <th>label</th>\n",
       "      <th>messages</th>\n",
       "    </tr>\n",
       "  </thead>\n",
       "  <tbody>\n",
       "    <tr>\n",
       "      <th>0</th>\n",
       "      <td>ham</td>\n",
       "      <td>Go until jurong point, crazy.. Available only ...</td>\n",
       "    </tr>\n",
       "    <tr>\n",
       "      <th>1</th>\n",
       "      <td>ham</td>\n",
       "      <td>Ok lar... Joking wif u oni...</td>\n",
       "    </tr>\n",
       "    <tr>\n",
       "      <th>2</th>\n",
       "      <td>spam</td>\n",
       "      <td>Free entry in 2 a wkly comp to win FA Cup fina...</td>\n",
       "    </tr>\n",
       "    <tr>\n",
       "      <th>3</th>\n",
       "      <td>ham</td>\n",
       "      <td>U dun say so early hor... U c already then say...</td>\n",
       "    </tr>\n",
       "    <tr>\n",
       "      <th>4</th>\n",
       "      <td>ham</td>\n",
       "      <td>Nah I don't think he goes to usf, he lives aro...</td>\n",
       "    </tr>\n",
       "  </tbody>\n",
       "</table>\n",
       "</div>"
      ],
      "text/plain": [
       "  label                                           messages\n",
       "0   ham  Go until jurong point, crazy.. Available only ...\n",
       "1   ham                      Ok lar... Joking wif u oni...\n",
       "2  spam  Free entry in 2 a wkly comp to win FA Cup fina...\n",
       "3   ham  U dun say so early hor... U c already then say...\n",
       "4   ham  Nah I don't think he goes to usf, he lives aro..."
      ]
     },
     "execution_count": 6,
     "metadata": {},
     "output_type": "execute_result"
    }
   ],
   "source": [
    "# See how the data is now splitted with 2 features label and messages. Label is my dependent feature and messages are independent feature\n",
    "df.head(5) "
   ]
  },
  {
   "cell_type": "markdown",
   "id": "distant-retrieval",
   "metadata": {},
   "source": [
    "## Step 2\n",
    "Data Cleaning and preprocessing"
   ]
  },
  {
   "cell_type": "code",
   "execution_count": 5,
   "id": "august-sacramento",
   "metadata": {},
   "outputs": [
    {
     "name": "stderr",
     "output_type": "stream",
     "text": [
      "[nltk_data] Downloading package stopwords to\n",
      "[nltk_data]     /home/ec2-user/nltk_data...\n",
      "[nltk_data]   Package stopwords is already up-to-date!\n"
     ]
    }
   ],
   "source": [
    "# import necessary libraries including the stopwords\n",
    "import re\n",
    "import nltk\n",
    "nltk.download('stopwords')\n",
    "\n",
    "from nltk.corpus import stopwords\n",
    "from nltk.stem.porter import PorterStemmer #For Stemming(base root format of word)\n"
   ]
  },
  {
   "cell_type": "code",
   "execution_count": 9,
   "id": "attractive-cleveland",
   "metadata": {},
   "outputs": [],
   "source": [
    "# let's now try to cleanup the messages feature and perform some preprocessing\n",
    "ps = PorterStemmer()\n",
    "corpus = [] #empty corpus\n",
    "for i in range(0, len(df)):\n",
    "    process = re.sub('[^a-zA-Z]', ' ', df['messages'][i]) #remove all unnecessary characters(,....) except aAzZ\n",
    "    process = process.lower() #convert to all lowercase\n",
    "    process = process.split() #split sentence to get list of words\n",
    "    \n",
    "    process = [ps.stem(word) for word in process if not word in stopwords.words('english')]\n",
    "    process = ' '.join(process)\n",
    "    corpus.append(process)"
   ]
  },
  {
   "cell_type": "markdown",
   "id": "statutory-ticket",
   "metadata": {},
   "source": [
    "## Why Stemming? Initially we can always start with Stemming and then look at the result before moving to Lemmatization. Lemmatization is a heavy operations and usually takes time depending on the corpus"
   ]
  },
  {
   "cell_type": "markdown",
   "id": "saving-puzzle",
   "metadata": {},
   "source": [
    "## Step 3"
   ]
  },
  {
   "cell_type": "markdown",
   "id": "patient-trinidad",
   "metadata": {},
   "source": [
    "Create the Bag of Words model. To improve accuracy you may use TF-IDF"
   ]
  },
  {
   "cell_type": "code",
   "execution_count": 18,
   "id": "afraid-cradle",
   "metadata": {},
   "outputs": [],
   "source": [
    "from sklearn.feature_extraction.text import CountVectorizer\n",
    "cv = CountVectorizer(max_features=5000) #lets start with 5000 columns\n",
    "X = cv.fit_transform(corpus).toarray()\n",
    "\n",
    "Y=pd.get_dummies(df['label']) #convert to categorical values.. 1 indicates Spam.. Categorical \n",
    "Y=Y.iloc[:,1].values # since there are two columns, one column can be used to specify information for both columns"
   ]
  },
  {
   "cell_type": "markdown",
   "id": "technological-church",
   "metadata": {},
   "source": [
    "## Step 4"
   ]
  },
  {
   "cell_type": "markdown",
   "id": "geological-behavior",
   "metadata": {},
   "source": [
    "Split Train/Test"
   ]
  },
  {
   "cell_type": "code",
   "execution_count": 19,
   "id": "graduate-hardwood",
   "metadata": {},
   "outputs": [],
   "source": [
    "from sklearn.model_selection import train_test_split\n",
    "X_train, X_test, Y_train, Y_test = train_test_split(X, Y, test_size = 0.20, random_state = 0)"
   ]
  },
  {
   "cell_type": "markdown",
   "id": "instructional-operation",
   "metadata": {},
   "source": [
    "## Step 5"
   ]
  },
  {
   "cell_type": "markdown",
   "id": "premium-rough",
   "metadata": {},
   "source": [
    "Naive Bayes works exceptionally well with NLP. Naive Bayes is a classification technique, based on probability"
   ]
  },
  {
   "cell_type": "code",
   "execution_count": 21,
   "id": "returning-regular",
   "metadata": {},
   "outputs": [],
   "source": [
    "# Training model using Naive bayes classifier\n",
    "\n",
    "from sklearn.naive_bayes import MultinomialNB\n",
    "spam_detect_model = MultinomialNB().fit(X_train, Y_train)\n"
   ]
  },
  {
   "cell_type": "code",
   "execution_count": 15,
   "id": "earlier-smith",
   "metadata": {},
   "outputs": [],
   "source": [
    "y_pred=spam_detect_model.predict(X_test)"
   ]
  },
  {
   "cell_type": "markdown",
   "id": "creative-williams",
   "metadata": {},
   "source": [
    "## Step 6"
   ]
  },
  {
   "cell_type": "markdown",
   "id": "lesser-kingston",
   "metadata": {},
   "source": [
    "2 X 2 Confusion Matrix for checking accuracy"
   ]
  },
  {
   "cell_type": "code",
   "execution_count": 24,
   "id": "alpha-bench",
   "metadata": {},
   "outputs": [
    {
     "name": "stdout",
     "output_type": "stream",
     "text": [
      "[[946   9]\n",
      " [  7 153]]\n",
      "              precision    recall  f1-score   support\n",
      "\n",
      "           0       0.99      0.99      0.99       955\n",
      "           1       0.94      0.96      0.95       160\n",
      "\n",
      "    accuracy                           0.99      1115\n",
      "   macro avg       0.97      0.97      0.97      1115\n",
      "weighted avg       0.99      0.99      0.99      1115\n",
      "\n",
      "Accuracy (validation): 0.9856502242152466\n"
     ]
    }
   ],
   "source": [
    "from sklearn.metrics import confusion_matrix, classification_report, accuracy_score\n",
    "\n",
    "# Use the fitted pipeline to make predictions on the validation dataset\n",
    "print(confusion_matrix(Y_test, y_pred))\n",
    "print(classification_report(Y_test, y_pred))\n",
    "print(\"Accuracy (validation):\", accuracy_score(Y_test, y_pred))"
   ]
  },
  {
   "cell_type": "code",
   "execution_count": null,
   "id": "brave-entity",
   "metadata": {},
   "outputs": [],
   "source": []
  }
 ],
 "metadata": {
  "kernelspec": {
   "display_name": "conda_python3",
   "language": "python",
   "name": "conda_python3"
  },
  "language_info": {
   "codemirror_mode": {
    "name": "ipython",
    "version": 3
   },
   "file_extension": ".py",
   "mimetype": "text/x-python",
   "name": "python",
   "nbconvert_exporter": "python",
   "pygments_lexer": "ipython3",
   "version": "3.6.13"
  }
 },
 "nbformat": 4,
 "nbformat_minor": 5
}
